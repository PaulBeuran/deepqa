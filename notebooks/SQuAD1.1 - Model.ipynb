{
 "cells": [
  {
   "cell_type": "code",
   "execution_count": null,
   "metadata": {},
   "outputs": [],
   "source": [
    "#####################################################################\n",
    "# Mandatory : Run this cell and restart the notebook kernel right after\n",
    "#####################################################################\n",
    "!pip install torch==1.11 transformers"
   ]
  },
  {
   "cell_type": "code",
   "execution_count": null,
   "metadata": {},
   "outputs": [],
   "source": [
    "%%bash\n",
    "#####################################################################\n",
    "# Only use on Googgle Colab, uncomment if necessary\n",
    "#####################################################################\n",
    "# Clone the repo content into\n",
    "cd /content\n",
    "rm -rf deepqa\n",
    "git clone -b model https://github.com/PaulBeuran/deepqa.git"
   ]
  },
  {
   "cell_type": "code",
   "execution_count": null,
   "metadata": {},
   "outputs": [],
   "source": [
    "#####################################################################\n",
    "# Only use on Googgle Colab, uncomment if necessary\n",
    "#####################################################################\n",
    "cd deepqa/notebooks/"
   ]
  },
  {
   "cell_type": "code",
   "execution_count": 1,
   "metadata": {},
   "outputs": [
    {
     "name": "stderr",
     "output_type": "stream",
     "text": [
      "  % Total    % Received % Xferd  Average Speed   Time    Time     Time  Current\n",
      "                                 Dload  Upload   Total   Spent    Left  Speed\n",
      "100 8937k  100 8937k    0     0  3555k      0  0:00:02  0:00:02 --:--:-- 3555k\n"
     ]
    },
    {
     "name": "stdout",
     "output_type": "stream",
     "text": [
      "Archive:  squad1.1.zip\n",
      "  inflating: data/dev-v1.1.json      \n",
      "  inflating: data/train-v1.1.json    \n"
     ]
    }
   ],
   "source": [
    "%%bash\n",
    "# Dowload the SQuAD1.1 data\n",
    "curl -O https://data.deepai.org/squad1.1.zip\n",
    "unzip -o squad1.1.zip -d data"
   ]
  },
  {
   "cell_type": "code",
   "execution_count": 2,
   "metadata": {},
   "outputs": [
    {
     "name": "stderr",
     "output_type": "stream",
     "text": [
      "2022-07-30 00:36:05.538503: W tensorflow/stream_executor/platform/default/dso_loader.cc:64] Could not load dynamic library 'libcudart.so.11.0'; dlerror: libcudart.so.11.0: cannot open shared object file: No such file or directory\n",
      "2022-07-30 00:36:05.538577: I tensorflow/stream_executor/cuda/cudart_stub.cc:29] Ignore above cudart dlerror if you do not have a GPU set up on your machine.\n"
     ]
    }
   ],
   "source": [
    "import sys\n",
    "import os\n",
    "import pathlib\n",
    "\n",
    "import json\n",
    "\n",
    "import torch\n",
    "import transformers\n",
    "\n",
    "if torch.cuda.is_available():\n",
    "    torch.set_default_tensor_type('torch.cuda.FloatTensor')\n",
    "\n",
    "deepqa_lib_path = str(pathlib.Path(os.getcwd()).parent.parent.absolute())\n",
    "sys.path.insert(0, deepqa_lib_path)\n",
    "\n",
    "from deepqa import preprocessing, tokenizer, model, wrapper, loss, metrics, utils"
   ]
  },
  {
   "cell_type": "code",
   "execution_count": 3,
   "metadata": {},
   "outputs": [],
   "source": [
    "# Read train and dev data\n",
    "with open(\"data/train-v1.1.json\", \"rb\") as j:\n",
    "    train_data = json.load(j)[\"data\"]\n",
    "with open(\"data/dev-v1.1.json\", \"rb\") as j:\n",
    "    dev_data = json.load(j)[\"data\"]"
   ]
  },
  {
   "cell_type": "code",
   "execution_count": 4,
   "metadata": {},
   "outputs": [],
   "source": [
    "hf_language_model_path = \"distilbert-base-uncased\"\n",
    "context_max_length = 512\n",
    "query_max_length = 64\n",
    "\n",
    "train_contexts_token_ids, train_queries_token_ids, train_answers_token_ranges = (\n",
    "    preprocessing.tokenize_squad_11_data(\n",
    "        train_data, tokenizer.HFAutoTokenizer(hf_language_model_path), 512, 64\n",
    "    )\n",
    ")\n",
    "\n",
    "dev_contexts_token_ids, dev_queries_token_ids, dev_answers_token_ranges = (\n",
    "    preprocessing.tokenize_squad_11_data(\n",
    "        dev_data, tokenizer.HFAutoTokenizer(hf_language_model_path), 512, 64\n",
    "    )\n",
    ")"
   ]
  },
  {
   "cell_type": "code",
   "execution_count": 5,
   "metadata": {},
   "outputs": [],
   "source": [
    "train_dataset = utils.QADataset(train_contexts_token_ids, \n",
    "                                train_queries_token_ids, \n",
    "                                train_answers_token_ranges)\n",
    "train_loader = torch.utils.data.DataLoader(train_dataset, \n",
    "                                           batch_size=32, \n",
    "                                           shuffle=False)\n",
    "\n",
    "dev_dataset = utils.QADataset(dev_contexts_token_ids, \n",
    "                              dev_queries_token_ids, \n",
    "                              dev_answers_token_ranges)\n",
    "train_loader = torch.utils.data.DataLoader(dev_dataset, \n",
    "                                           batch_size=32, \n",
    "                                           shuffle=False)"
   ]
  },
  {
   "cell_type": "code",
   "execution_count": null,
   "metadata": {},
   "outputs": [],
   "source": [
    "word_encoder = (transformers.AutoModel.from_pretrained(hf_language_model_path)\n",
    "                                        .embeddings\n",
    "                                        .word_embeddings)\n",
    "char_encoder = None\n",
    "contextual_embedding_size = 256\n",
    "bidaf = model.BiDAF(word_encoder, char_encoder, contextual_embedding_size, 0.2)"
   ]
  },
  {
   "cell_type": "code",
   "execution_count": null,
   "metadata": {},
   "outputs": [],
   "source": [
    "bidaf_trainer = model.QATrainWrapper(bidaf)\n",
    "bidaf_trainer.train(train_loader, \n",
    "                    epochs=16, \n",
    "                    loss=loss.bi_cross_entropy)"
   ]
  }
 ],
 "metadata": {
  "kernelspec": {
   "display_name": "Python 3.8.10 64-bit",
   "language": "python",
   "name": "python3"
  },
  "language_info": {
   "codemirror_mode": {
    "name": "ipython",
    "version": 3
   },
   "file_extension": ".py",
   "mimetype": "text/x-python",
   "name": "python",
   "nbconvert_exporter": "python",
   "pygments_lexer": "ipython3",
   "version": "3.8.10"
  },
  "orig_nbformat": 4,
  "vscode": {
   "interpreter": {
    "hash": "916dbcbb3f70747c44a77c7bcd40155683ae19c65e1c03b4aa3499c5328201f1"
   }
  }
 },
 "nbformat": 4,
 "nbformat_minor": 2
}
